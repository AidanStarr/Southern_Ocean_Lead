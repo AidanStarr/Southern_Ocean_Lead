{
 "cells": [
  {
   "cell_type": "code",
   "execution_count": 1,
   "metadata": {},
   "outputs": [
    {
     "name": "stdout",
     "output_type": "stream",
     "text": [
      "/home/pablo/Insync/StarrA1@cardiff.ac.uk/OneDrive Biz/Paper 1/repo/Southern_Ocean_Lead\n"
     ]
    }
   ],
   "source": [
    "import os\n",
    "import numpy as np\n",
    "import pandas as pd\n",
    "import matplotlib.pyplot as plt\n",
    "from matplotlib.ticker import ScalarFormatter,AutoMinorLocator\n",
    "import matplotlib as mpl\n",
    "%matplotlib inline\n",
    "\n",
    "single_width = 89*0.0393701\n",
    "double_width = 183*0.0393701\n",
    "plt.rc('font', family='sans')\n",
    "plt.rc('xtick', labelsize=8)\n",
    "plt.rc('ytick', labelsize=8)\n",
    "plt.rc('axes', labelsize=8)\n",
    "\n",
    "os.chdir('/home/pablo/Insync/StarrA1@cardiff.ac.uk/OneDrive Biz/Paper 1/repo/Southern_Ocean_Lead')\n",
    "print(os.getcwd())  # Prints the current working directory\n"
   ]
  },
  {
   "cell_type": "markdown",
   "metadata": {},
   "source": [
    "# Figure 3\n"
   ]
  },
  {
   "cell_type": "code",
   "execution_count": 96,
   "metadata": {},
   "outputs": [],
   "source": [
    "# Read data\n",
    "ds = pd.read_csv('raw/starr_submitted.csv')\n",
    "lags = pd.read_csv('outputs/lag_results.csv')\n",
    "method = lags.columns\n",
    "y_pos = np.arange(len(method))\n",
    "data = lags.iloc[0,:]\n",
    "er1 = lags.iloc[1,:] - data\n",
    "er2 = data - lags.iloc[2,:]\n",
    "xerr = [er2, er1]"
   ]
  },
  {
   "cell_type": "code",
   "execution_count": 103,
   "metadata": {},
   "outputs": [
    {
     "data": {
      "image/png": "[encoded data removed]",
      "text/plain": [
       "<Figure size 432x288 with 1 Axes>"
      ]
     },
     "metadata": {
      "needs_background": "light"
     },
     "output_type": "display_data"
    }
   ],
   "source": [
    "colors = ['red','blue','blue','blue','pink']\n",
    "fig, ax = plt.subplots()\n",
    "ax.barh(y_pos, data, xerr=er2, align='center',capsize=7,color=colors)\n",
    "ax.set_yticks(y_pos);\n",
    "ax.set_yticklabels(method)\n",
    "ax.invert_xaxis()\n",
    "ax.set_xlabel('Lead (kyrs)');\n"
   ]
  },
  {
   "cell_type": "code",
   "execution_count": 95,
   "metadata": {},
   "outputs": [
    {
     "data": {
      "text/html": [
       "<div>\n",
       "<style scoped>\n",
       "    .dataframe tbody tr th:only-of-type {\n",
       "        vertical-align: middle;\n",
       "    }\n",
       "\n",
       "    .dataframe tbody tr th {\n",
       "        vertical-align: top;\n",
       "    }\n",
       "\n",
       "    .dataframe thead th {\n",
       "        text-align: right;\n",
       "    }\n",
       "</style>\n",
       "<table border=\"1\" class=\"dataframe\">\n",
       "  <thead>\n",
       "    <tr style=\"text-align: right;\">\n",
       "      <th></th>\n",
       "      <th>peak_lag</th>\n",
       "      <th>precession_BT</th>\n",
       "      <th>obliquity_BT</th>\n",
       "      <th>eccentricity_BT</th>\n",
       "      <th>cross_correlation</th>\n",
       "    </tr>\n",
       "  </thead>\n",
       "  <tbody>\n",
       "    <tr>\n",
       "      <th>0</th>\n",
       "      <td>-1.653846</td>\n",
       "      <td>-3.395593</td>\n",
       "      <td>-2.401857</td>\n",
       "      <td>-4.688620</td>\n",
       "      <td>-2</td>\n",
       "    </tr>\n",
       "    <tr>\n",
       "      <th>1</th>\n",
       "      <td>-1.794643</td>\n",
       "      <td>-3.974843</td>\n",
       "      <td>-2.967629</td>\n",
       "      <td>-6.171165</td>\n",
       "      <td>-3</td>\n",
       "    </tr>\n",
       "    <tr>\n",
       "      <th>2</th>\n",
       "      <td>-1.052955</td>\n",
       "      <td>-2.816343</td>\n",
       "      <td>-1.836085</td>\n",
       "      <td>-3.206074</td>\n",
       "      <td>-1</td>\n",
       "    </tr>\n",
       "  </tbody>\n",
       "</table>\n",
       "</div>"
      ],
      "text/plain": [
       "   peak_lag  precession_BT  obliquity_BT  eccentricity_BT  cross_correlation\n",
       "0 -1.653846      -3.395593     -2.401857        -4.688620                 -2\n",
       "1 -1.794643      -3.974843     -2.967629        -6.171165                 -3\n",
       "2 -1.052955      -2.816343     -1.836085        -3.206074                 -1"
      ]
     },
     "execution_count": 95,
     "metadata": {},
     "output_type": "execute_result"
    }
   ],
   "source": [
    "lags"
   ]
  },
  {
   "cell_type": "code",
   "execution_count": 86,
   "metadata": {},
   "outputs": [
    {
     "data": {
      "text/plain": [
       "[peak_lag            -1.794643\n",
       " precession_BT       -3.974843\n",
       " obliquity_BT        -2.967629\n",
       " eccentricity_BT     -6.171165\n",
       " cross_correlation   -3.000000\n",
       " Name: 1, dtype: float64,\n",
       " peak_lag            -1.052955\n",
       " precession_BT       -2.816343\n",
       " obliquity_BT        -1.836085\n",
       " eccentricity_BT     -3.206074\n",
       " cross_correlation   -1.000000\n",
       " Name: 2, dtype: float64]"
      ]
     },
     "execution_count": 86,
     "metadata": {},
     "output_type": "execute_result"
    }
   ],
   "source": [
    "xerr"
   ]
  },
  {
   "cell_type": "code",
   "execution_count": null,
   "metadata": {},
   "outputs": [],
   "source": []
  }
 ],
 "metadata": {
  "kernelspec": {
   "display_name": "Python 3",
   "language": "python",
   "name": "python3"
  },
  "language_info": {
   "codemirror_mode": {
    "name": "ipython",
    "version": 3
   },
   "file_extension": ".py",
   "mimetype": "text/x-python",
   "name": "python",
   "nbconvert_exporter": "python",
   "pygments_lexer": "ipython3",
   "version": "3.7.6"
  }
 },
 "nbformat": 4,
 "nbformat_minor": 4
}
